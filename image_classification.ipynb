{
  "cells": [
    {
      "cell_type": "markdown",
      "metadata": {
        "id": "zCXy24Z8nFW_"
      },
      "source": [
        "# **Introduction**"
      ]
    },
    {
      "cell_type": "markdown",
      "metadata": {
        "id": "FOEtEvBfnLDd"
      },
      "source": [
        "\n",
        "**Goal**\n",
        "\n",
        "This project delves into the realm of image classification, with a focus on the CIFAR-10 dataset. The primary goal is to build and optimize convolutional neural network (CNN) models for accurately classifying diverse images across ten distinct categories.\n",
        "\n",
        "**Approach**\n",
        "\n",
        "1. **Data Preprocessing**:\n",
        "\n",
        "Load and preprocess the CIFAR-10 dataset.\n",
        "Normalize pixel values to a standard scale (0 to 1).\n",
        "Apply data augmentation techniques to enhance model generalization.\n",
        "\n",
        "2. **Baseline CNN Model**:\n",
        "\n",
        "Design a baseline CNN architecture tailored for image classification.\n",
        "Implement hyperparameter tuning to optimize the model's learning and generalization capabilities.\n",
        "\n",
        "3. **Training and Evaluation**:\n",
        "\n",
        "Train the baseline CNN model on the preprocessed dataset.\n",
        "Evaluate the model's performance using standard metrics such as accuracy and loss.\n",
        "Save the best-performing model for future use.\n",
        "\n",
        "4. **VGG16 Transfer Learning**:\n",
        "\n",
        "Employ the VGG16 architecture with transfer learning.\n",
        "Fine-tune the model on the CIFAR-10 dataset.\n",
        "Save the trained VGG16-based model for further exploration.\n",
        "\n",
        "5. **Outcome**:\n",
        "\n",
        "Showcase the results of both models, emphasizing their accuracy and effectiveness in classifying images.\n",
        "Provide visualizations of model predictions on sample test images.\n",
        "\n",
        "6. **Conclusion**:\n",
        "\n",
        "This project serves as a comprehensive exploration of image classification techniques, showcasing the development of a baseline CNN and the application of transfer learning with VGG16. The aim is to achieve superior accuracy in categorizing images from the CIFAR-10 dataset, highlighting the power of deep learning in real-world applications."
      ]
    },
    {
      "cell_type": "markdown",
      "metadata": {
        "id": "PMjuLLJRCbwS"
      },
      "source": [
        "# **Importing necessary libraries**"
      ]
    },
    {
      "cell_type": "code",
      "execution_count": 1,
      "metadata": {
        "colab": {
          "base_uri": "https://localhost:8080/"
        },
        "id": "DmhdDYgbMYUR",
        "outputId": "87847332-6018-432e-999a-722f50275d0c"
      },
      "outputs": [
        {
          "name": "stdout",
          "output_type": "stream",
          "text": [
            "Collecting scikeras\n",
            "  Downloading scikeras-0.12.0-py3-none-any.whl (27 kB)\n",
            "Requirement already satisfied: packaging>=0.21 in /usr/local/lib/python3.10/dist-packages (from scikeras) (23.2)\n",
            "Requirement already satisfied: scikit-learn>=1.0.0 in /usr/local/lib/python3.10/dist-packages (from scikeras) (1.2.2)\n",
            "Requirement already satisfied: numpy>=1.17.3 in /usr/local/lib/python3.10/dist-packages (from scikit-learn>=1.0.0->scikeras) (1.23.5)\n",
            "Requirement already satisfied: scipy>=1.3.2 in /usr/local/lib/python3.10/dist-packages (from scikit-learn>=1.0.0->scikeras) (1.11.4)\n",
            "Requirement already satisfied: joblib>=1.1.1 in /usr/local/lib/python3.10/dist-packages (from scikit-learn>=1.0.0->scikeras) (1.3.2)\n",
            "Requirement already satisfied: threadpoolctl>=2.0.0 in /usr/local/lib/python3.10/dist-packages (from scikit-learn>=1.0.0->scikeras) (3.2.0)\n",
            "Installing collected packages: scikeras\n",
            "Successfully installed scikeras-0.12.0\n"
          ]
        }
      ],
      "source": [
        "!pip install scikeras"
      ]
    },
    {
      "cell_type": "code",
      "execution_count": 2,
      "metadata": {
        "id": "2pVDwOXUCEDT"
      },
      "outputs": [],
      "source": [
        "import tensorflow as tf\n",
        "from tensorflow.keras import datasets, layers, models\n",
        "from tensorflow.keras.applications import VGG16\n",
        "from tensorflow.keras.preprocessing.image import ImageDataGenerator\n",
        "from scipy.stats import randint\n",
        "from sklearn.model_selection import RandomizedSearchCV\n",
        "import matplotlib.pyplot as plt\n",
        "from scikeras.wrappers import KerasClassifier\n",
        "import numpy as np"
      ]
    },
    {
      "cell_type": "markdown",
      "metadata": {
        "id": "cun3vAWBvD1_"
      },
      "source": [
        "# **Loading the Dataset**"
      ]
    },
    {
      "cell_type": "code",
      "execution_count": 3,
      "metadata": {
        "colab": {
          "base_uri": "https://localhost:8080/"
        },
        "id": "8L5kNeafKXre",
        "outputId": "30b4f75d-4c3e-4d0a-bfcf-715cf64b5865"
      },
      "outputs": [
        {
          "name": "stdout",
          "output_type": "stream",
          "text": [
            "Downloading data from https://www.cs.toronto.edu/~kriz/cifar-10-python.tar.gz\n",
            "170498071/170498071 [==============================] - 6s 0us/step\n"
          ]
        }
      ],
      "source": [
        "(train_images, train_labels),(test_images, test_labels) = datasets.cifar10.load_data()"
      ]
    },
    {
      "cell_type": "code",
      "execution_count": 4,
      "metadata": {
        "colab": {
          "base_uri": "https://localhost:8080/",
          "height": 482
        },
        "id": "2FA9Ex6hwN_O",
        "outputId": "ecb1646b-938c-403b-a3ea-9de62ed1bb12"
      },
      "outputs": [
        {
          "name": "stdout",
          "output_type": "stream",
          "text": [
            "label :  [9]\n"
          ]
        },
        {
          "data": {
            "image/png": "[encoded data removed]",
            "text/plain": [
              "<Figure size 640x480 with 1 Axes>"
            ]
          },
          "metadata": {},
          "output_type": "display_data"
        },
        {
          "name": "stdout",
          "output_type": "stream",
          "text": [
            "training images shape : (50000, 32, 32, 3)\n",
            "testing images shape:  (10000, 32, 32, 3)\n"
          ]
        }
      ],
      "source": [
        "print('label : ', train_labels[1])\n",
        "plt.imshow(train_images[1])\n",
        "plt.show()\n",
        "print('training images shape :', train_images.shape)\n",
        "print('testing images shape: ', test_images.shape)"
      ]
    },
    {
      "cell_type": "markdown",
      "metadata": {
        "id": "J2nzcJYu24Au"
      },
      "source": [
        "# **Normalization and reshaping**"
      ]
    },
    {
      "cell_type": "code",
      "execution_count": 5,
      "metadata": {
        "id": "mkCC8Omfvi0S"
      },
      "outputs": [],
      "source": [
        "train_images, test_images = train_images/255.0, test_images/255.0\n",
        "train_images, test_images = train_images.reshape(train_images.shape[0],32,32,3),\\\n",
        " test_images.reshape(test_images.shape[0],32,32,3)"
      ]
    },
    {
      "cell_type": "markdown",
      "metadata": {
        "id": "IoHQVjd428ot"
      },
      "source": [
        "# **Data Augmentation**"
      ]
    },
    {
      "cell_type": "code",
      "execution_count": 6,
      "metadata": {
        "id": "ZZdB1s6Rw9fG"
      },
      "outputs": [],
      "source": [
        "data_generator = ImageDataGenerator(\n",
        "    rotation_range = 20,\n",
        "    width_shift_range = 0.2,\n",
        "    height_shift_range = 0.2,\n",
        "    horizontal_flip = True\n",
        ")\n",
        "\n",
        "data_generator.fit(train_images)"
      ]
    },
    {
      "cell_type": "markdown",
      "metadata": {
        "id": "3o1npqIa3whT"
      },
      "source": [
        "# **baseline model**"
      ]
    },
    {
      "cell_type": "code",
      "execution_count": 10,
      "metadata": {
        "id": "yLf_mgCW3upq"
      },
      "outputs": [],
      "source": [
        "def baseline_model_creation():\n",
        "    baseline_model = models.Sequential([\n",
        "        layers.Conv2D(32, (3, 3), activation='relu', input_shape=(32, 32, 3)),\n",
        "        layers.MaxPooling2D(2, 2),\n",
        "        layers.Conv2D(64, (3, 3), activation='relu'),\n",
        "        layers.MaxPooling2D(2, 2),\n",
        "        layers.Conv2D(64, (3, 3), activation='relu'),\n",
        "        layers.Flatten(),\n",
        "        layers.Dense(128, activation='relu'),\n",
        "        layers.Dropout(0.2),\n",
        "        layers.Dense(64, activation='relu'),\n",
        "        layers.Dropout(0.2),\n",
        "        layers.Dense(128, activation='relu'),\n",
        "        layers.Dropout(0.2),\n",
        "        layers.Dense(32, activation='relu'),\n",
        "        layers.Dropout(0.2),\n",
        "        layers.Dense(10, activation='softmax')\n",
        "    ])\n",
        "\n",
        "    baseline_model.compile(optimizer='adam',\n",
        "                          loss='sparse_categorical_crossentropy',\n",
        "                          metrics=['accuracy'])\n",
        "\n",
        "    return baseline_model"
      ]
    },
    {
      "cell_type": "markdown",
      "metadata": {
        "id": "NS12jrPaGgQ5"
      },
      "source": [
        "**Optional : Hyperparameter Tuning**"
      ]
    },
    {
      "cell_type": "code",
      "execution_count": null,
      "metadata": {
        "id": "Oe4ii5ZI9-Dy"
      },
      "outputs": [],
      "source": [
        "# baseline_model = KerasClassifier(build_fn=baseline_model_creation,\n",
        "#                                  learning_rate=0.01,\n",
        "#                                  dropout_rate=0.2,\n",
        "#                                  node1=128,\n",
        "#                                  node2=64,\n",
        "#                                  epochs=5,\n",
        "#                                  batch_size=256)"
      ]
    },
    {
      "cell_type": "code",
      "execution_count": null,
      "metadata": {
        "id": "kJyeIJQB-yv2"
      },
      "outputs": [],
      "source": [
        "# params_tuning = {\n",
        "#     'learning_rate' : np.logspace(-4,0, num=20),\n",
        "#     'node1' : randint(64, 256),\n",
        "#     'node2' : randint(32, 128),\n",
        "#     'dropout_rate' : [0.2,0.4],\n",
        "#     'epochs' : [15, 20],\n",
        "#     'batch_size' : [64, 128, 256]\n",
        "# }"
      ]
    },
    {
      "cell_type": "code",
      "execution_count": null,
      "metadata": {
        "id": "SxwtXf6R-7TV"
      },
      "outputs": [],
      "source": [
        "# random_search = RandomizedSearchCV(estimator = baseline_model, param_distributions=params_tuning,n_iter=10, cv=4)\n",
        "# random_result = random_search.fit(train_images,train_labels)\n",
        "# print('best parameter : ' random_result.best_params)"
      ]
    },
    {
      "cell_type": "markdown",
      "metadata": {
        "id": "iOaRvGGscDVp"
      },
      "source": [
        "**Model Creation**"
      ]
    },
    {
      "cell_type": "code",
      "execution_count": 11,
      "metadata": {
        "colab": {
          "base_uri": "https://localhost:8080/"
        },
        "id": "7LUL6010FVs0",
        "outputId": "8ac9bfdf-5110-435a-e8f7-880bf3a47805"
      },
      "outputs": [
        {
          "name": "stdout",
          "output_type": "stream",
          "text": [
            "Epoch 1/40\n",
            "1563/1563 [==============================] - 49s 26ms/step - loss: 1.9267 - accuracy: 0.1297 - val_loss: 1.6077 - val_accuracy: 0.0431\n",
            "Epoch 2/40\n",
            "1563/1563 [==============================] - 39s 25ms/step - loss: 1.6761 - accuracy: 0.0871 - val_loss: 1.4585 - val_accuracy: 0.0538\n",
            "Epoch 3/40\n",
            "1563/1563 [==============================] - 39s 25ms/step - loss: 1.5722 - accuracy: 0.0878 - val_loss: 1.3454 - val_accuracy: 0.0451\n",
            "Epoch 4/40\n",
            "1563/1563 [==============================] - 44s 28ms/step - loss: 1.4952 - accuracy: 0.0869 - val_loss: 1.2721 - val_accuracy: 0.0916\n",
            "Epoch 5/40\n",
            "1563/1563 [==============================] - 41s 26ms/step - loss: 1.4511 - accuracy: 0.0909 - val_loss: 1.2540 - val_accuracy: 0.1141\n",
            "Epoch 6/40\n",
            "1563/1563 [==============================] - 41s 26ms/step - loss: 1.4175 - accuracy: 0.0914 - val_loss: 1.1891 - val_accuracy: 0.0737\n",
            "Epoch 7/40\n",
            "1563/1563 [==============================] - 39s 25ms/step - loss: 1.3817 - accuracy: 0.0938 - val_loss: 1.2041 - val_accuracy: 0.0767\n",
            "Epoch 8/40\n",
            "1563/1563 [==============================] - 40s 25ms/step - loss: 1.3455 - accuracy: 0.0941 - val_loss: 1.1604 - val_accuracy: 0.0971\n",
            "Epoch 9/40\n",
            "1563/1563 [==============================] - 40s 25ms/step - loss: 1.3248 - accuracy: 0.0955 - val_loss: 1.1055 - val_accuracy: 0.0941\n",
            "Epoch 10/40\n",
            "1563/1563 [==============================] - 41s 26ms/step - loss: 1.3024 - accuracy: 0.0970 - val_loss: 1.1162 - val_accuracy: 0.0916\n",
            "Epoch 11/40\n",
            "1563/1563 [==============================] - 38s 24ms/step - loss: 1.2907 - accuracy: 0.0999 - val_loss: 1.0852 - val_accuracy: 0.0936\n",
            "Epoch 12/40\n",
            "1563/1563 [==============================] - 39s 25ms/step - loss: 1.2803 - accuracy: 0.0985 - val_loss: 1.0743 - val_accuracy: 0.0856\n",
            "Epoch 13/40\n",
            "1563/1563 [==============================] - 40s 26ms/step - loss: 1.2644 - accuracy: 0.0971 - val_loss: 1.0432 - val_accuracy: 0.0933\n",
            "Epoch 14/40\n",
            "1563/1563 [==============================] - 38s 24ms/step - loss: 1.2465 - accuracy: 0.1003 - val_loss: 1.0054 - val_accuracy: 0.1020\n",
            "Epoch 15/40\n",
            "1563/1563 [==============================] - 39s 25ms/step - loss: 1.2360 - accuracy: 0.1002 - val_loss: 1.0316 - val_accuracy: 0.1088\n",
            "Epoch 16/40\n",
            "1563/1563 [==============================] - 39s 25ms/step - loss: 1.2243 - accuracy: 0.0995 - val_loss: 1.0828 - val_accuracy: 0.0899\n",
            "Epoch 17/40\n",
            "1563/1563 [==============================] - 42s 27ms/step - loss: 1.2159 - accuracy: 0.0975 - val_loss: 1.0178 - val_accuracy: 0.0981\n",
            "Epoch 18/40\n",
            "1563/1563 [==============================] - 40s 26ms/step - loss: 1.2083 - accuracy: 0.0976 - val_loss: 1.0092 - val_accuracy: 0.0900\n",
            "Epoch 19/40\n",
            "1563/1563 [==============================] - 40s 25ms/step - loss: 1.2045 - accuracy: 0.1008 - val_loss: 0.9895 - val_accuracy: 0.1103\n",
            "Epoch 20/40\n",
            "1563/1563 [==============================] - 42s 27ms/step - loss: 1.1898 - accuracy: 0.0995 - val_loss: 0.9634 - val_accuracy: 0.0888\n",
            "Epoch 21/40\n",
            "1563/1563 [==============================] - 40s 26ms/step - loss: 1.1916 - accuracy: 0.0982 - val_loss: 1.0050 - val_accuracy: 0.0832\n",
            "Epoch 22/40\n",
            "1563/1563 [==============================] - 39s 25ms/step - loss: 1.1770 - accuracy: 0.0961 - val_loss: 1.1008 - val_accuracy: 0.0919\n",
            "Epoch 23/40\n",
            "1563/1563 [==============================] - 39s 25ms/step - loss: 1.1727 - accuracy: 0.0977 - val_loss: 1.0282 - val_accuracy: 0.0989\n",
            "Epoch 24/40\n",
            "1563/1563 [==============================] - 40s 26ms/step - loss: 1.1679 - accuracy: 0.1009 - val_loss: 0.9997 - val_accuracy: 0.0780\n",
            "Epoch 25/40\n",
            "1563/1563 [==============================] - 39s 25ms/step - loss: 1.1537 - accuracy: 0.0983 - val_loss: 1.0154 - val_accuracy: 0.0860\n",
            "Epoch 26/40\n",
            "1563/1563 [==============================] - 39s 25ms/step - loss: 1.1592 - accuracy: 0.1017 - val_loss: 1.0317 - val_accuracy: 0.0863\n",
            "Epoch 27/40\n",
            "1563/1563 [==============================] - 41s 26ms/step - loss: 1.1479 - accuracy: 0.0992 - val_loss: 1.0202 - val_accuracy: 0.0778\n",
            "Epoch 28/40\n",
            "1563/1563 [==============================] - 38s 25ms/step - loss: 1.1518 - accuracy: 0.1013 - val_loss: 0.9459 - val_accuracy: 0.1045\n",
            "Epoch 29/40\n",
            "1563/1563 [==============================] - 40s 25ms/step - loss: 1.1438 - accuracy: 0.0987 - val_loss: 0.9898 - val_accuracy: 0.1000\n",
            "Epoch 30/40\n",
            "1563/1563 [==============================] - 40s 26ms/step - loss: 1.1380 - accuracy: 0.0972 - val_loss: 0.9618 - val_accuracy: 0.1096\n",
            "Epoch 31/40\n",
            "1563/1563 [==============================] - 41s 26ms/step - loss: 1.1293 - accuracy: 0.0997 - val_loss: 0.9574 - val_accuracy: 0.1032\n",
            "Epoch 32/40\n",
            "1563/1563 [==============================] - 40s 26ms/step - loss: 1.1358 - accuracy: 0.1010 - val_loss: 1.0082 - val_accuracy: 0.0902\n",
            "Epoch 33/40\n",
            "1563/1563 [==============================] - 40s 26ms/step - loss: 1.1222 - accuracy: 0.0990 - val_loss: 0.9269 - val_accuracy: 0.0762\n",
            "Epoch 34/40\n",
            "1563/1563 [==============================] - 40s 25ms/step - loss: 1.1289 - accuracy: 0.0960 - val_loss: 0.9260 - val_accuracy: 0.1086\n",
            "Epoch 35/40\n",
            "1563/1563 [==============================] - 40s 26ms/step - loss: 1.1189 - accuracy: 0.0999 - val_loss: 0.9225 - val_accuracy: 0.1187\n",
            "Epoch 36/40\n",
            "1563/1563 [==============================] - 39s 25ms/step - loss: 1.1122 - accuracy: 0.0985 - val_loss: 0.8937 - val_accuracy: 0.1087\n",
            "Epoch 37/40\n",
            "1563/1563 [==============================] - 39s 25ms/step - loss: 1.1109 - accuracy: 0.1017 - val_loss: 0.9309 - val_accuracy: 0.1166\n",
            "Epoch 38/40\n",
            "1563/1563 [==============================] - 40s 25ms/step - loss: 1.0982 - accuracy: 0.1022 - val_loss: 0.9218 - val_accuracy: 0.1044\n",
            "Epoch 39/40\n",
            "1563/1563 [==============================] - 39s 25ms/step - loss: 1.1028 - accuracy: 0.0984 - val_loss: 0.9038 - val_accuracy: 0.1018\n",
            "Epoch 40/40\n",
            "1563/1563 [==============================] - 40s 25ms/step - loss: 1.1034 - accuracy: 0.1010 - val_loss: 0.9242 - val_accuracy: 0.1117\n"
          ]
        },
        {
          "name": "stderr",
          "output_type": "stream",
          "text": [
            "/usr/local/lib/python3.10/dist-packages/keras/src/engine/training.py:3103: UserWarning: You are saving your model as an HDF5 file via `model.save()`. This file format is considered legacy. We recommend using instead the native Keras format, e.g. `model.save('my_model.keras')`.\n",
            "  saving_api.save_model(\n"
          ]
        }
      ],
      "source": [
        "best_baseline_model = baseline_model_creation()\n",
        "\n",
        "best_baseline_model.fit(data_generator.flow(train_images, train_labels),\n",
        "                        epochs = 40,\n",
        "                        batch_size = 512,\n",
        "                        validation_data = (test_images,test_labels))\n",
        "best_baseline_model.save('/content/drive/MyDrive/dl .hs files/img classification cifar10/baseline_model.h5')"
      ]
    },
    {
      "cell_type": "markdown",
      "metadata": {
        "id": "eDVns-_XEGR8"
      },
      "source": [
        "**Predicting with Baseline model**"
      ]
    },
    {
      "cell_type": "code",
      "execution_count": 25,
      "metadata": {
        "id": "ix5nx_z2ELNT"
      },
      "outputs": [],
      "source": [
        "def predict(model, test_images):\n",
        "    class_labels = [\"airplane\", \"automobile\", \"bird\", \"cat\", \"deer\", \"dog\", \"frog\", \"horse\", \"ship\", \"truck\"]\n",
        "\n",
        "    fig, axes = plt.subplots(1, 6, figsize=(15, 3))\n",
        "\n",
        "    for i in range(6):\n",
        "        input_image = test_images[i].reshape((1, 32, 32, 3))\n",
        "        predictions = model.predict(input_image)\n",
        "        predicted_label = np.argmax(predictions[0])\n",
        "\n",
        "        axes[i].imshow(test_images[i])\n",
        "        axes[i].set_title(f'Predicted: {class_labels[predicted_label]}')\n",
        "        axes[i].axis('off')\n",
        "\n",
        "    plt.show()"
      ]
    },
    {
      "cell_type": "code",
      "execution_count": 27,
      "metadata": {
        "colab": {
          "base_uri": "https://localhost:8080/",
          "height": 349
        },
        "id": "Yl2pbxFGZpe5",
        "outputId": "f62545fb-7e97-43bd-b171-143174376c55"
      },
      "outputs": [
        {
          "name": "stdout",
          "output_type": "stream",
          "text": [
            "1/1 [==============================] - 0s 19ms/step\n",
            "1/1 [==============================] - 0s 17ms/step\n",
            "1/1 [==============================] - 0s 17ms/step\n",
            "1/1 [==============================] - 0s 18ms/step\n",
            "1/1 [==============================] - 0s 18ms/step\n",
            "1/1 [==============================] - 0s 20ms/step\n"
          ]
        },
        {
          "data": {
            "image/png": "[encoded data removed]",
            "text/plain": [
              "<Figure size 1500x300 with 6 Axes>"
            ]
          },
          "metadata": {},
          "output_type": "display_data"
        }
      ],
      "source": [
        "predict(best_baseline_model, test_images)"
      ]
    },
    {
      "cell_type": "markdown",
      "metadata": {
        "id": "dFZXGZH-OqQi"
      },
      "source": [
        "**Evaluate the baseline model**"
      ]
    },
    {
      "cell_type": "code",
      "execution_count": 28,
      "metadata": {
        "colab": {
          "base_uri": "https://localhost:8080/"
        },
        "id": "XhmuUOirOJT5",
        "outputId": "dd4de8ff-2c2b-4c52-d403-b1c861845f3c"
      },
      "outputs": [
        {
          "name": "stdout",
          "output_type": "stream",
          "text": [
            "313/313 - 1s - loss: 0.9242 - accuracy: 0.1117 - 1s/epoch - 3ms/step\n"
          ]
        }
      ],
      "source": [
        "test_loss, test_acc_cnn = best_baseline_model.evaluate(test_images, test_labels, verbose=2)"
      ]
    },
    {
      "cell_type": "markdown",
      "metadata": {
        "id": "_vRGIwkDD25K"
      },
      "source": [
        "# **Transfer Learning (VGG16 - CNN Feature Extractor + Custom ANN)**"
      ]
    },
    {
      "cell_type": "code",
      "execution_count": 29,
      "metadata": {
        "colab": {
          "base_uri": "https://localhost:8080/"
        },
        "id": "C7qpgKv2C3tO",
        "outputId": "674caff7-393e-439e-d1d0-eae4b8621258"
      },
      "outputs": [
        {
          "name": "stdout",
          "output_type": "stream",
          "text": [
            "Downloading data from https://storage.googleapis.com/tensorflow/keras-applications/vgg16/vgg16_weights_tf_dim_ordering_tf_kernels_notop.h5\n",
            "58889256/58889256 [==============================] - 2s 0us/step\n"
          ]
        }
      ],
      "source": [
        "vgg_cnn = VGG16(weights='imagenet', include_top=False, input_shape=(32, 32, 3))\n",
        "\n",
        "for layer in vgg_cnn.layers:\n",
        "    layer.trainable = False\n",
        "\n",
        "vgg16_model = models.Sequential([\n",
        "    vgg_cnn,\n",
        "    layers.Flatten(),\n",
        "    layers.Dense(128, activation='relu'),\n",
        "    layers.Dropout(0.),\n",
        "    layers.Dense(64, activation='relu'),\n",
        "    layers.Dropout(0.2),\n",
        "    layers.Dense(10, activation='softmax')\n",
        "])"
      ]
    },
    {
      "cell_type": "code",
      "execution_count": 30,
      "metadata": {
        "colab": {
          "base_uri": "https://localhost:8080/"
        },
        "id": "j4lKy1aTKOnk",
        "outputId": "33e8289b-8d96-418a-ad4b-92340407a449"
      },
      "outputs": [
        {
          "name": "stdout",
          "output_type": "stream",
          "text": [
            "Epoch 1/32\n",
            "1563/1563 [==============================] - 48s 30ms/step - loss: 1.6197 - accuracy: 0.0979 - val_loss: 1.3462 - val_accuracy: 0.1423\n",
            "Epoch 2/32\n",
            "1563/1563 [==============================] - 47s 30ms/step - loss: 1.4528 - accuracy: 0.0989 - val_loss: 1.3264 - val_accuracy: 0.0992\n",
            "Epoch 3/32\n",
            "1563/1563 [==============================] - 48s 31ms/step - loss: 1.4036 - accuracy: 0.0989 - val_loss: 1.2584 - val_accuracy: 0.1171\n",
            "Epoch 4/32\n",
            "1563/1563 [==============================] - 53s 34ms/step - loss: 1.3758 - accuracy: 0.0987 - val_loss: 1.2593 - val_accuracy: 0.0825\n",
            "Epoch 5/32\n",
            "1563/1563 [==============================] - 44s 28ms/step - loss: 1.3532 - accuracy: 0.0980 - val_loss: 1.2159 - val_accuracy: 0.1004\n",
            "Epoch 6/32\n",
            "1563/1563 [==============================] - 45s 29ms/step - loss: 1.3381 - accuracy: 0.0984 - val_loss: 1.2195 - val_accuracy: 0.1067\n",
            "Epoch 7/32\n",
            "1563/1563 [==============================] - 45s 29ms/step - loss: 1.3204 - accuracy: 0.0971 - val_loss: 1.1946 - val_accuracy: 0.1084\n",
            "Epoch 8/32\n",
            "1563/1563 [==============================] - 44s 28ms/step - loss: 1.3089 - accuracy: 0.0970 - val_loss: 1.2216 - val_accuracy: 0.1069\n",
            "Epoch 9/32\n",
            "1563/1563 [==============================] - 44s 28ms/step - loss: 1.2978 - accuracy: 0.0970 - val_loss: 1.2194 - val_accuracy: 0.0994\n",
            "Epoch 10/32\n",
            "1563/1563 [==============================] - 49s 31ms/step - loss: 1.2948 - accuracy: 0.0962 - val_loss: 1.2081 - val_accuracy: 0.1153\n",
            "Epoch 11/32\n",
            "1563/1563 [==============================] - 44s 28ms/step - loss: 1.2858 - accuracy: 0.0978 - val_loss: 1.2410 - val_accuracy: 0.1065\n",
            "Epoch 12/32\n",
            "1563/1563 [==============================] - 44s 28ms/step - loss: 1.2765 - accuracy: 0.0961 - val_loss: 1.1649 - val_accuracy: 0.1069\n",
            "Epoch 13/32\n",
            "1563/1563 [==============================] - 44s 28ms/step - loss: 1.2643 - accuracy: 0.0976 - val_loss: 1.1791 - val_accuracy: 0.1032\n",
            "Epoch 14/32\n",
            "1563/1563 [==============================] - 44s 28ms/step - loss: 1.2602 - accuracy: 0.0984 - val_loss: 1.1638 - val_accuracy: 0.1000\n",
            "Epoch 15/32\n",
            "1563/1563 [==============================] - 44s 28ms/step - loss: 1.2604 - accuracy: 0.0975 - val_loss: 1.1832 - val_accuracy: 0.1036\n",
            "Epoch 16/32\n",
            "1563/1563 [==============================] - 44s 28ms/step - loss: 1.2519 - accuracy: 0.0964 - val_loss: 1.1818 - val_accuracy: 0.0955\n",
            "Epoch 17/32\n",
            "1563/1563 [==============================] - 45s 29ms/step - loss: 1.2458 - accuracy: 0.0965 - val_loss: 1.1634 - val_accuracy: 0.1021\n",
            "Epoch 18/32\n",
            "1563/1563 [==============================] - 44s 28ms/step - loss: 1.2438 - accuracy: 0.0980 - val_loss: 1.1678 - val_accuracy: 0.0967\n",
            "Epoch 19/32\n",
            "1563/1563 [==============================] - 43s 28ms/step - loss: 1.2372 - accuracy: 0.0963 - val_loss: 1.1806 - val_accuracy: 0.0931\n",
            "Epoch 20/32\n",
            "1563/1563 [==============================] - 44s 28ms/step - loss: 1.2322 - accuracy: 0.0987 - val_loss: 1.1490 - val_accuracy: 0.1065\n",
            "Epoch 21/32\n",
            "1563/1563 [==============================] - 46s 30ms/step - loss: 1.2263 - accuracy: 0.0982 - val_loss: 1.1399 - val_accuracy: 0.1034\n",
            "Epoch 22/32\n",
            "1563/1563 [==============================] - 43s 28ms/step - loss: 1.2282 - accuracy: 0.0974 - val_loss: 1.1854 - val_accuracy: 0.0985\n",
            "Epoch 23/32\n",
            "1563/1563 [==============================] - 43s 28ms/step - loss: 1.2208 - accuracy: 0.0968 - val_loss: 1.1798 - val_accuracy: 0.0919\n",
            "Epoch 24/32\n",
            "1563/1563 [==============================] - 46s 29ms/step - loss: 1.2257 - accuracy: 0.0954 - val_loss: 1.1743 - val_accuracy: 0.0854\n",
            "Epoch 25/32\n",
            "1563/1563 [==============================] - 45s 29ms/step - loss: 1.2183 - accuracy: 0.0963 - val_loss: 1.1847 - val_accuracy: 0.1067\n",
            "Epoch 26/32\n",
            "1563/1563 [==============================] - 44s 28ms/step - loss: 1.2141 - accuracy: 0.0965 - val_loss: 1.2065 - val_accuracy: 0.0829\n",
            "Epoch 27/32\n",
            "1563/1563 [==============================] - 45s 29ms/step - loss: 1.2115 - accuracy: 0.0952 - val_loss: 1.1697 - val_accuracy: 0.0947\n",
            "Epoch 28/32\n",
            "1563/1563 [==============================] - 45s 29ms/step - loss: 1.2112 - accuracy: 0.0963 - val_loss: 1.1545 - val_accuracy: 0.1031\n",
            "Epoch 29/32\n",
            "1563/1563 [==============================] - 44s 28ms/step - loss: 1.2108 - accuracy: 0.0968 - val_loss: 1.1713 - val_accuracy: 0.0943\n",
            "Epoch 30/32\n",
            "1563/1563 [==============================] - 46s 29ms/step - loss: 1.2010 - accuracy: 0.0977 - val_loss: 1.1704 - val_accuracy: 0.1061\n",
            "Epoch 31/32\n",
            "1563/1563 [==============================] - 46s 29ms/step - loss: 1.2020 - accuracy: 0.1000 - val_loss: 1.1526 - val_accuracy: 0.0948\n",
            "Epoch 32/32\n",
            "1563/1563 [==============================] - 47s 30ms/step - loss: 1.2044 - accuracy: 0.0976 - val_loss: 1.1606 - val_accuracy: 0.0990\n"
          ]
        },
        {
          "name": "stderr",
          "output_type": "stream",
          "text": [
            "/usr/local/lib/python3.10/dist-packages/keras/src/engine/training.py:3103: UserWarning: You are saving your model as an HDF5 file via `model.save()`. This file format is considered legacy. We recommend using instead the native Keras format, e.g. `model.save('my_model.keras')`.\n",
            "  saving_api.save_model(\n"
          ]
        }
      ],
      "source": [
        "vgg16_model.compile(optimizer='adam',\n",
        "                    loss = 'sparse_categorical_crossentropy',\n",
        "                    metrics = ['accuracy'])\n",
        "\n",
        "vgg16_model.fit(data_generator.flow(train_images,train_labels),\n",
        "                epochs = 32,\n",
        "                batch_size = 256,\n",
        "                validation_data = (test_images, test_labels))\n",
        "\n",
        "vgg16_model.save('/content/drive/MyDrive/dl .hs files/img classification cifar10/VGG16_CNN_model.h5')"
      ]
    },
    {
      "cell_type": "markdown",
      "metadata": {
        "id": "nXn1KI6tKZ8a"
      },
      "source": [
        "**Predicting with VGG16_CNN model**"
      ]
    },
    {
      "cell_type": "code",
      "execution_count": 32,
      "metadata": {
        "colab": {
          "base_uri": "https://localhost:8080/",
          "height": 235
        },
        "id": "2avkvxfvOm07",
        "outputId": "8abf303f-3688-4421-f5c4-cd902e13d93b"
      },
      "outputs": [
        {
          "name": "stdout",
          "output_type": "stream",
          "text": [
            "1/1 [==============================] - 1s 712ms/step\n",
            "1/1 [==============================] - 0s 19ms/step\n",
            "1/1 [==============================] - 0s 24ms/step\n",
            "1/1 [==============================] - 0s 22ms/step\n",
            "1/1 [==============================] - 0s 19ms/step\n",
            "1/1 [==============================] - 0s 20ms/step\n"
          ]
        },
        {
          "data": {
            "image/png": "[encoded data removed]",
            "text/plain": [
              "<Figure size 1500x300 with 6 Axes>"
            ]
          },
          "metadata": {},
          "output_type": "display_data"
        }
      ],
      "source": [
        "predict(vgg16_model,test_images)"
      ]
    },
    {
      "cell_type": "markdown",
      "metadata": {
        "id": "tGjZo5jWOlTy"
      },
      "source": [
        "**Evaluate the transfer learning model**"
      ]
    },
    {
      "cell_type": "code",
      "execution_count": 33,
      "metadata": {
        "colab": {
          "base_uri": "https://localhost:8080/"
        },
        "id": "Y_Aej7DPOZPU",
        "outputId": "cbca7070-65f1-44ce-e734-4c8bfde1e391"
      },
      "outputs": [
        {
          "name": "stdout",
          "output_type": "stream",
          "text": [
            "313/313 - 2s - loss: 1.1606 - accuracy: 0.0990 - 2s/epoch - 8ms/step\n"
          ]
        }
      ],
      "source": [
        "test_loss, test_acc_16 = vgg16_model.evaluate(test_images, test_labels, verbose=2)"
      ]
    }
  ],
  "metadata": {
    "accelerator": "GPU",
    "colab": {
      "provenance": []
    },
    "kernelspec": {
      "display_name": "Python 3",
      "name": "python3"
    },
    "language_info": {
      "name": "python"
    }
  },
  "nbformat": 4,
  "nbformat_minor": 0
}
